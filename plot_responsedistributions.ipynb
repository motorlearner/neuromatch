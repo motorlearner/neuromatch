{
  "nbformat": 4,
  "nbformat_minor": 0,
  "metadata": {
    "colab": {
      "provenance": [],
      "authorship_tag": "ABX9TyNggcRUEGs2IoFxI1O04LRU",
      "include_colab_link": true
    },
    "kernelspec": {
      "name": "python3",
      "display_name": "Python 3"
    },
    "language_info": {
      "name": "python"
    }
  },
  "cells": [
    {
      "cell_type": "markdown",
      "metadata": {
        "id": "view-in-github",
        "colab_type": "text"
      },
      "source": [
        "<a href=\"https://colab.research.google.com/github/motorlearner/neuromatch/blob/main/plot_responsedistributions.ipynb\" target=\"_parent\"><img src=\"https://colab.research.google.com/assets/colab-badge.svg\" alt=\"Open In Colab\"/></a>"
      ]
    },
    {
      "cell_type": "code",
      "execution_count": null,
      "metadata": {
        "id": "vvwp3l5EN9mc"
      },
      "outputs": [],
      "source": [
        "!rm -rf getdata.py* sample_data data01_direction4priors.csv\n",
        "!wget -q https://raw.githubusercontent.com/motorlearner/neuromatch/refs/heads/main/getdata.py\n",
        "%run getdata.py"
      ]
    },
    {
      "cell_type": "code",
      "source": [
        "import pandas as pd\n",
        "import numpy as np\n",
        "import matplotlib.pyplot as plt\n",
        "import ipywidgets as widgets\n",
        "\n",
        "# make df visible\n",
        "df = df\n",
        "\n",
        "# plot function\n",
        "def plot_resp(subject_id:int, bin_width:int):\n",
        "  dat = df[(df.subject_id == subject_id)]\n",
        "  # sets\n",
        "  stim_set = np.sort(dat.stim_rel.unique())\n",
        "  prsd_set = np.sort(dat.prior_sd.unique())[::-1]\n",
        "  # grid size\n",
        "  ncols = len(prsd_set)\n",
        "  nrows = len(stim_set)\n",
        "  # plot\n",
        "  fig, axes = plt.subplots(nrows, ncols, figsize=(ncols*2, nrows*1), squeeze=False, sharex=True)\n",
        "  fig.subplots_adjust(wspace=0.5, hspace=0.1)\n",
        "  for i, stim_rel in enumerate(stim_set):\n",
        "    for j, prior_sd in enumerate(prsd_set):\n",
        "      ax = axes[i,j]\n",
        "      ax.set_box_aspect(0.5)\n",
        "      thisdat = dat[(dat.stim_rel == stim_rel) & (dat.prior_sd == prior_sd)]\n",
        "      if len(thisdat)==0:\n",
        "        ax.set_visible(False)\n",
        "      else:\n",
        "        for spine in ['top', 'right', 'left']:\n",
        "          ax.spines[spine].set_visible(False)\n",
        "        # axes\n",
        "        ax.xaxis.set_ticks_position('bottom')\n",
        "        ax.tick_params(axis='x', labelsize=8)\n",
        "        ax.tick_params(axis='y', left=False, labelleft=False)\n",
        "        ax.set_xlim(-180, 180)\n",
        "        ax.set_xticks([-180, -90, 0, 90, 180])\n",
        "        ax.set_xticklabels(['−180°', '−90°', '0°', '90°', '180°'], fontsize=7)\n",
        "        # data\n",
        "        ax.axvline(x=stim_rel, lw=1, ls=\"-\", color=\"navy\")\n",
        "        ax.hist(thisdat.resp_rel, bins=np.arange(-180,181,bin_width), color=colormap[prior_sd])\n",
        "      if i==0 and j==0:\n",
        "        ax.annotate(\n",
        "          f'Subject {subject_id}, Bin width = {bin_width}',\n",
        "          xy=(1.1, 1), xycoords='axes fraction', va='top', ha='left',\n",
        "          rotation=0, fontsize=9, fontweight='bold'\n",
        "        )\n",
        "\n",
        "# interactive\n",
        "subject_ids = sorted(df['subject_id'].unique())\n",
        "bin_options = [i for i in range(1, 20) if 360 % i == 0]\n",
        "\n",
        "dropdown = widgets.Dropdown(\n",
        "  options=subject_ids,\n",
        "  value=subject_ids[0],\n",
        "  description='Subject: '\n",
        ")\n",
        "dropdown_bins = widgets.Dropdown(\n",
        "  options=bin_options,\n",
        "  value=5,\n",
        "  description='Bin Width: '\n",
        ")\n",
        "\n",
        "if True:\n",
        "  # components\n",
        "  plotoutput = widgets.interactive_output(plot_resp, {'subject_id': dropdown, 'bin_width': dropdown_bins})\n",
        "  controls   = widgets.HBox([dropdown, dropdown_bins])\n",
        "  container  = widgets.VBox([controls, plotoutput])\n",
        "  # layout\n",
        "  dropdown.layout      = widgets.Layout(margin='0 20px 0 0', width='150px')\n",
        "  dropdown_bins.layout = widgets.Layout(margin='0 20px 0 0')\n",
        "  controls.layout      = widgets.Layout(margin='0 0 20px 0')\n",
        "  # show\n",
        "  display(container)"
      ],
      "metadata": {
        "id": "7XMTK076OBD8"
      },
      "execution_count": null,
      "outputs": []
    }
  ]
}