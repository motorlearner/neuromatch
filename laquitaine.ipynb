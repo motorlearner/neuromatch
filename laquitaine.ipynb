{
  "nbformat": 4,
  "nbformat_minor": 0,
  "metadata": {
    "colab": {
      "provenance": [],
      "authorship_tag": "ABX9TyM+AIabMVR8aLaf04ZeHUyl",
      "include_colab_link": true
    },
    "kernelspec": {
      "name": "python3",
      "display_name": "Python 3"
    },
    "language_info": {
      "name": "python"
    }
  },
  "cells": [
    {
      "cell_type": "markdown",
      "metadata": {
        "id": "view-in-github",
        "colab_type": "text"
      },
      "source": [
        "<a href=\"https://colab.research.google.com/github/motorlearner/neuromatch/blob/main/laquitaine.ipynb\" target=\"_parent\"><img src=\"https://colab.research.google.com/assets/colab-badge.svg\" alt=\"Open In Colab\"/></a>"
      ]
    },
    {
      "cell_type": "code",
      "source": [
        "# imports\n",
        "import requests\n",
        "import pandas as pd\n",
        "import numpy as np"
      ],
      "metadata": {
        "id": "y-xuAaTuqcEb"
      },
      "execution_count": 18,
      "outputs": []
    },
    {
      "cell_type": "code",
      "execution_count": 54,
      "metadata": {
        "id": "X6rJyxZrphrK"
      },
      "outputs": [],
      "source": [
        "# @title Read Data\n",
        "# ------------------------------------------------------------------------------\n",
        "\n",
        "# fetch data\n",
        "url = \"https://github.com/steevelaquitaine/projInference/raw/gh-pages/data/csv/data01_direction4priors.csv\"\n",
        "try:\n",
        "  RequestAPI = requests.get(url)\n",
        "except requests.ConnectionError:\n",
        "  print(\"Failed to download data. Please contact steeve.laquitaine@epfl.ch\")\n",
        "else:\n",
        "  if RequestAPI.status_code != requests.codes.ok:\n",
        "    print(\"Failed to download data. Please contact steeve.laquitaine@epfl.ch\")\n",
        "  else:\n",
        "    with open(\"data01_direction4priors.csv\", \"wb\") as fid:\n",
        "      fid.write(RequestAPI.content)\n",
        "\n",
        "# read data\n",
        "data = pd.read_csv(\"data01_direction4priors.csv\")"
      ]
    },
    {
      "cell_type": "code",
      "source": [
        "# @title Helpers: Process Data\n",
        "# ---------------------------------------------------------------------------- #\n",
        "\n",
        "\n",
        "# COORDINATE TRANSFORMS ------------------------------------------------------ #\n",
        "\n",
        "def cart2pol(x:np.array, y:np.array):\n",
        "  \"\"\"\n",
        "  Convert cartesian `(x,y)` to polar `(deg,mag)`.\n",
        "\n",
        "  Args:\n",
        "      `x`: scalar or array of x-coordinates\n",
        "      `y`: scalar or array of y-coordinates\n",
        "\n",
        "  Returns:\n",
        "      Tuple of `(deg,mag)`, where `deg` is in the interval\n",
        "      [0,360) counterclockwise from the positive x axis.\n",
        "  \"\"\"\n",
        "  # checks\n",
        "  # compute\n",
        "  deg = (np.degrees(np.arctan2(y,x)) + 360) % 360\n",
        "  mag = np.hypot(x,y)\n",
        "  return deg,mag\n",
        "\n",
        "\n",
        "def cart2deg(x:np.array, y:np.array):\n",
        "  return cart2pol(x,y)[0]\n",
        "\n",
        "\n",
        "def cart2mag(x:np.array, y:np.array):\n",
        "  return cart2pol(x,y)[1]\n",
        "\n",
        "\n",
        "def pol2cart(deg: np.array, mag: np.array):\n",
        "  \"\"\"\n",
        "  Convert polar `(deg,mag)` to cartesian `(x,y)`.\n",
        "\n",
        "  Args:\n",
        "      `deg`: scalar or array of angles in degrees [0,360)\n",
        "      `mag`: scalar or array of magnitudes\n",
        "\n",
        "  Returns:\n",
        "      Tuple of `(x, y)` coordinates.\n",
        "  \"\"\"\n",
        "  # Convert degrees to radians\n",
        "  rad = np.radians(deg)\n",
        "  # Compute x and y\n",
        "  x = mag * np.cos(rad)\n",
        "  y = mag * np.sin(rad)\n",
        "  return x, y\n",
        "\n",
        "# CIRCULAR DISTANCE ---------------------------------------------------------- #\n",
        "\n",
        "def circdiff(angle:np.array, reference:np.array):\n",
        "  \"\"\"\n",
        "  Compute the signed minimal circular distance from `angle` to `reference`.\n",
        "\n",
        "  Args:\n",
        "      `angle`: scalar or array of angles in degrees [0, 360)\n",
        "      `reference`: scalar reference angle in degrees [0, 360)\n",
        "\n",
        "  Returns:\n",
        "      Signed circular distance in degrees (-180, 180].\n",
        "  \"\"\"\n",
        "  return ((angle - reference + 180) % 360) - 180"
      ],
      "metadata": {
        "id": "Mp8maheH8Pe2"
      },
      "execution_count": 49,
      "outputs": []
    },
    {
      "cell_type": "code",
      "source": [
        "df = data.copy()\n",
        "# stimulus relative to prior\n",
        "df['motion_direction_rel'] = circdiff(df.motion_direction, df.prior_mean)\n",
        "# polar estimate\n",
        "df['estimate_deg'], df['estimate_mag'] = cart2pol(df.estimate_x, df.estimate_y)\n",
        "# error (deg)\n",
        "df['error'] = circdiff(df.estimate_deg, df.motion_direction)\n",
        "# error (deg) +ve if towards prior_mean (even if overshoots)\n",
        "df['prioratt'] = np.where(df.motion_direction_rel *  (e := df.error) < 0, np.abs(e), -np.abs(e))\n",
        "df['prioratt_norm'] = np.where((mdr := df.motion_direction_rel) != 0, df.error / mdr, np.nan)"
      ],
      "metadata": {
        "colab": {
          "base_uri": "https://localhost:8080/"
        },
        "id": "jxHwnGB8nhFz",
        "outputId": "4ec6bdb9-baa9-4c0b-f9f2-f1426112f6a9"
      },
      "execution_count": 89,
      "outputs": [
        {
          "output_type": "execute_result",
          "data": {
            "text/plain": [
              "Index(['trial_index', 'trial_time', 'response_arrow_start_angle',\n",
              "       'motion_direction', 'motion_coherence', 'estimate_x', 'estimate_y',\n",
              "       'reaction_time', 'raw_response_time', 'prior_std', 'prior_mean',\n",
              "       'subject_id', 'experiment_name', 'experiment_id', 'session_id',\n",
              "       'run_id', 'motion_direction_rel', 'estimate_deg', 'estimate_mag',\n",
              "       'error', 'prioratt', 'prioratt_norm'],\n",
              "      dtype='object')"
            ]
          },
          "metadata": {},
          "execution_count": 89
        }
      ]
    },
    {
      "cell_type": "code",
      "source": [
        "def plot_runs(subject_id):\n",
        "\n",
        "  dat = df[df.subject_id == subject_id]\n",
        "\n",
        "  session_ids =  dat.session_id.unique()\n",
        "\n",
        "\n",
        "\n",
        "\n"
      ],
      "metadata": {
        "id": "eoog-uWSau7s"
      },
      "execution_count": 94,
      "outputs": []
    },
    {
      "cell_type": "code",
      "source": [],
      "metadata": {
        "id": "Qq8fDs7Fdu8c"
      },
      "execution_count": null,
      "outputs": []
    },
    {
      "cell_type": "code",
      "source": [
        "plot_runs(1)"
      ],
      "metadata": {
        "colab": {
          "base_uri": "https://localhost:8080/"
        },
        "id": "eldNzj3qbXJH",
        "outputId": "3bfdc268-bc78-4ed6-e615-223d922db899"
      },
      "execution_count": 95,
      "outputs": [
        {
          "output_type": "execute_result",
          "data": {
            "text/plain": [
              "array([1, 2, 3, 4, 5, 6, 7, 8])"
            ]
          },
          "metadata": {},
          "execution_count": 95
        }
      ]
    }
  ]
}