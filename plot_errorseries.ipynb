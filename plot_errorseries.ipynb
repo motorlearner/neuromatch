{
  "nbformat": 4,
  "nbformat_minor": 0,
  "metadata": {
    "colab": {
      "provenance": [],
      "authorship_tag": "ABX9TyMPxOrM8lCyZLi3A2V16Q5K",
      "include_colab_link": true
    },
    "kernelspec": {
      "name": "python3",
      "display_name": "Python 3"
    },
    "language_info": {
      "name": "python"
    }
  },
  "cells": [
    {
      "cell_type": "markdown",
      "metadata": {
        "id": "view-in-github",
        "colab_type": "text"
      },
      "source": [
        "<a href=\"https://colab.research.google.com/github/motorlearner/neuromatch/blob/main/plot_errorseries.ipynb\" target=\"_parent\"><img src=\"https://colab.research.google.com/assets/colab-badge.svg\" alt=\"Open In Colab\"/></a>"
      ]
    },
    {
      "cell_type": "code",
      "execution_count": null,
      "metadata": {
        "id": "vvwp3l5EN9mc"
      },
      "outputs": [],
      "source": [
        "!rm -rf getdata.py* sample_data data01_direction4priors.csv\n",
        "!wget -q https://raw.githubusercontent.com/motorlearner/neuromatch/refs/heads/main/getdata.py\n",
        "%run getdata.py"
      ]
    },
    {
      "cell_type": "code",
      "source": [
        "import pandas as pd\n",
        "import numpy as np\n",
        "import matplotlib.pyplot as plt\n",
        "import ipywidgets as widgets\n",
        "\n",
        "# make df visible\n",
        "df = df\n",
        "\n",
        "# plot function\n",
        "def plot_err(subject_id:int, prior_sds:list=[10,20,40,80], towards_prior:bool=False):\n",
        "  dat = df[(df.subject_id == subject_id) & df.prior_sd.isin(prior_sds)]\n",
        "  dat.sort_values(by=['session_id', 'run_id', 'trial_id']).reset_index(drop=True)\n",
        "\n",
        "  # max errors\n",
        "  max_err = df[(df.subject_id == subject_id)].err.abs().max()\n",
        "\n",
        "  # unique values\n",
        "  prior_sd_set = sorted(dat.prior_sd.unique())\n",
        "  stim_coh_set = sorted(dat.stim_coh.unique())\n",
        "\n",
        "  fig, axes = plt.subplots(\n",
        "    len(stim_coh_set), 1,\n",
        "    figsize=(12, 6),\n",
        "    sharex=True, sharey=True\n",
        "  )\n",
        "\n",
        "  for i, stim_coh in enumerate(stim_coh_set):\n",
        "    ax = axes[i]\n",
        "    # prep data\n",
        "    thisdat = dat[(dat.stim_coh == stim_coh)].reset_index(drop=True)\n",
        "    xall = np.arange(len(thisdat.err)) + 1\n",
        "    yall = thisdat.err if not towards_prior else thisdat.err_toprior\n",
        "    # plot data\n",
        "    for j, prior_sd in enumerate(prior_sd_set):\n",
        "      mask = thisdat.prior_sd==prior_sd\n",
        "      x = np.where(mask, xall, np.nan)\n",
        "      y = np.where(mask, yall, np.nan)\n",
        "      y_avg = pd.Series(y).rolling(window=12, center=True).mean()\n",
        "      ax.plot(x, y, ls='-', lw=0.5, alpha=0.5, color=colormap[prior_sd])\n",
        "      ax.plot(x, y_avg, ls='-', lw=3.0, alpha=0.8, color='white')\n",
        "      ax.plot(x, y_avg, ls='-', lw=1.0, alpha=1.0, color=colormap[prior_sd])\n",
        "      ax.axhline(y=0, color='white', ls='--', lw=1)\n",
        "    # plot text\n",
        "    ax.set_title(f'Coherence={stim_coh:.0%}', fontsize=10)\n",
        "    # plot axes\n",
        "    ax.set_xlim(1, max([len(dat[dat.stim_coh==x]) for x in stim_coh_set]))\n",
        "    ax.set_ylim(-max_err, max_err)\n",
        "    ax.set_xlabel('Trial #' if i==len(stim_coh_set)-1 else '')\n",
        "    ax.set_ylabel('Error [deg]' if i==1 else '')\n",
        "\n",
        "# interactive\n",
        "subject_ids = sorted(df['subject_id'].unique())\n",
        "prior_sds   = sorted(df['prior_sd'].unique())\n",
        "\n",
        "dropdown = widgets.Dropdown(\n",
        "  options=subject_ids,\n",
        "  value=subject_ids[0],\n",
        "  description='Subject: '\n",
        ")\n",
        "checklist = widgets.SelectMultiple(\n",
        "  options=prior_sds,\n",
        "  value=tuple(prior_sds),\n",
        "  description='Prior SDs:'\n",
        ")\n",
        "tickbox = widgets.Checkbox(\n",
        "    value=False,\n",
        "    description='Error Positive if towards Prior Mean',\n",
        "    indent=False\n",
        ")\n",
        "\n",
        "if True:\n",
        "  # components\n",
        "  plotoutput = widgets.interactive_output(plot_err, {'subject_id': dropdown, 'prior_sds': checklist, 'towards_prior': tickbox})\n",
        "  controls   = widgets.HBox([dropdown, checklist, tickbox])\n",
        "  container  = widgets.VBox([controls, plotoutput])\n",
        "  # layout\n",
        "  dropdown.layout  = widgets.Layout(margin='0 20px 0 0', width='150px')\n",
        "  checklist.layout = widgets.Layout(margin='0 20px 0 0', width='200px', height='77px')\n",
        "  tickbox.layout   = widgets.Layout(margin='0 20px 0 20px')\n",
        "  controls.layout  = widgets.Layout(margin='0 0 20px 0')\n",
        "  # show\n",
        "  display(container)"
      ],
      "metadata": {
        "id": "7XMTK076OBD8"
      },
      "execution_count": null,
      "outputs": []
    }
  ]
}