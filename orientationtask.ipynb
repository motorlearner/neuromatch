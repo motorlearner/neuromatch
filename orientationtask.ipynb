{
  "nbformat": 4,
  "nbformat_minor": 0,
  "metadata": {
    "colab": {
      "provenance": [],
      "authorship_tag": "ABX9TyO89ACFlLHNbrOTDw33wXOY",
      "include_colab_link": true
    },
    "kernelspec": {
      "name": "python3",
      "display_name": "Python 3"
    },
    "language_info": {
      "name": "python"
    }
  },
  "cells": [
    {
      "cell_type": "markdown",
      "metadata": {
        "id": "view-in-github",
        "colab_type": "text"
      },
      "source": [
        "<a href=\"https://colab.research.google.com/github/motorlearner/neuromatch/blob/main/orientationtask.ipynb\" target=\"_parent\"><img src=\"https://colab.research.google.com/assets/colab-badge.svg\" alt=\"Open In Colab\"/></a>"
      ]
    },
    {
      "cell_type": "markdown",
      "source": [
        "Consider a generatitve model\n",
        "\n",
        "$$\n",
        "c ⟶ s ⟶ x\n",
        "$$\n",
        "\n",
        "where the cateogory $c$ determines the prior $p(s \\mid c)$ and the measurement distribution $p(x \\mid s)$.\n",
        "\n",
        "For simplicity, we can for now work with Normal distributions, such that\n",
        "\n",
        "$$\n",
        "\\begin{align*}\n",
        "p(s \\mid c) &= \\mathrm{N}(\\mu, \\kappa_c^2) \\\\[1ex]\n",
        "p(x \\mid s) &= \\mathrm{N}(s, \\sigma^2)\n",
        "\\end{align*}\n",
        "$$\n",
        "\n",
        "where $\\mu$ is the fixed mean, $\\kappa_c^2$ is the class-conditioned prior variance, and $\\sigma^2$ is the measurement variance (for now, assumed to be constant).\n",
        "\n",
        "The observer makes a response based on the posterior distribution\n",
        "\n",
        "$$\n",
        "\\begin{align*}\n",
        "p(s \\mid x)\n",
        "&\\propto p(x \\mid s) p(s) \\\\[.5ex]\n",
        "&= p(x \\mid s) \\sum_c p(s \\mid c) p(c)\n",
        "\\end{align*}\n",
        "$$"
      ],
      "metadata": {
        "id": "mKlozo-XubBo"
      }
    },
    {
      "cell_type": "code",
      "source": [
        "import numpy as np\n",
        "import matplotlib.pyplot as plt\n",
        "import scipy.stats as stats\n",
        "import ipywidgets as widgets"
      ],
      "metadata": {
        "id": "PSYH4tfV5jF_"
      },
      "execution_count": null,
      "outputs": []
    },
    {
      "cell_type": "code",
      "source": [
        "def xsd_func(l:float, u:float):\n",
        "  \"\"\"\n",
        "  Create a function that computes measurement noise given stimulus orientation.\n",
        "\n",
        "  Args:\n",
        "      l: minimal sensory noise (will be at 90, 180, 270, 360deg)\n",
        "      u: maximal sensory noise (will be at 45, 135, 225, 315deg)\n",
        "\n",
        "  Returns:\n",
        "      Function that maps stimulus orientation (in deg) to measurement noise.\n",
        "  \"\"\"\n",
        "  # checks\n",
        "  if u < l:\n",
        "    raise ValueError(f\"Expected u >= l, but got u={u}, l={l}.\")\n",
        "  # compute\n",
        "  func = lambda s: l + np.abs(np.sin(np.radians(2*s))) * (u-l)\n",
        "  return func"
      ],
      "metadata": {
        "id": "BX3CwM326J_S"
      },
      "execution_count": null,
      "outputs": []
    },
    {
      "cell_type": "code",
      "source": [
        "def mod_simple(smean, ssd, s, xsdl, xsdu, n=2000):\n",
        "  # support\n",
        "  sup = np.linspace(-180, 180, 2000)\n",
        "  # measurement noise function\n",
        "  xsd = xsd_func(xsdl, xsdu)\n",
        "  # distributions (prior, measurement dist)\n",
        "  prior = stats.norm(smean, ssd)\n",
        "  mdist = stats.norm(s, xsd(s))\n",
        "  # simulated measurements\n",
        "  x_arr = mdist.rvs(n)\n",
        "  # functions\n",
        "  pdf_prior = stats.norm(smean, ssd).pdf(sup)\n",
        "  lik_funcs = [ stats.norm(sup, xsd(sup)).pdf(x) for x in x_arr ]\n",
        "  pdf_post  = [ pdf_prior * lik for lik in lik_funcs ]\n",
        "  # renormalize\n",
        "  pdf_post = [ x / np.sum(x) for x in pdf_post ]\n",
        "  # compute mode\n",
        "  pm = [ sup[np.argmax(post)] for post in pdf_post ]\n",
        "  # plot\n",
        "  fig, ax = plt.subplots()\n",
        "  ax.hist(pm, bins=50, density=True)\n",
        "  ax.set_xlim((-180,180))"
      ],
      "metadata": {
        "id": "BJkKi8HE_W3A"
      },
      "execution_count": null,
      "outputs": []
    },
    {
      "cell_type": "code",
      "source": [
        "mod_simple(0, 10, -90, 1, 30, n=5000)\n",
        "\n"
      ],
      "metadata": {
        "colab": {
          "base_uri": "https://localhost:8080/",
          "height": 430
        },
        "id": "zw3yFrNT8XZ2",
        "outputId": "cfbbbdb2-ce45-40a4-a5e8-1cd4b54d3a36"
      },
      "execution_count": null,
      "outputs": [
        {
          "output_type": "display_data",
          "data": {
            "text/plain": [
              "<Figure size 640x480 with 1 Axes>"
            ],
            "image/png": "[encoded data removed]"
          },
          "metadata": {}
        }
      ]
    }
  ]
}