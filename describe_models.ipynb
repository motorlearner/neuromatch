{
  "nbformat": 4,
  "nbformat_minor": 0,
  "metadata": {
    "colab": {
      "provenance": [],
      "name": "describe_models.ipynb",
      "authorship_tag": "ABX9TyPLxf3+CctmF73sII96MVHM",
      "include_colab_link": true
    },
    "kernelspec": {
      "name": "python3",
      "display_name": "Python 3"
    },
    "language_info": {
      "name": "python"
    }
  },
  "cells": [
    {
      "cell_type": "markdown",
      "metadata": {
        "id": "view-in-github",
        "colab_type": "text"
      },
      "source": [
        "<a href=\"https://colab.research.google.com/github/motorlearner/neuromatch/blob/main/describe_models.ipynb\" target=\"_parent\"><img src=\"https://colab.research.google.com/assets/colab-badge.svg\" alt=\"Open In Colab\"/></a>"
      ]
    },
    {
      "cell_type": "markdown",
      "source": [
        "# Symbols\n",
        "\n",
        "$$\n",
        "\\def\\thetahat{\\widehat{\\theta\\kern1.3mu}}\n",
        "\\begin{alignat*}{5}\n",
        "&C         \\qquad &&\\text{variable indexing prior} \\\\[1ex]\n",
        "&\\theta    \\qquad &&\\text{stimulus} \\\\[1ex]\n",
        "&\\thetahat \\qquad &&\\text{measurement} \\\\[1ex]\n",
        "&\\mu       \\qquad &&\\text{prior mean} \\\\[1ex]\n",
        "&\\kappa    \\qquad &&\\text{prior precision} \\\\[1ex]\n",
        "&k         \\qquad &&\\text{measurement precision} \\\\[1ex]\n",
        "\\end{alignat*}\n",
        "$$"
      ],
      "metadata": {
        "id": "5i0LBdBCmlB0"
      }
    },
    {
      "cell_type": "markdown",
      "source": [
        "# Static Models\n",
        "\n",
        "## Simple Bayesian Observer\n",
        "\n",
        "The simplest Bayesian observer has a single prior reflecting the stimulus distribution\n",
        "\n",
        "$$\n",
        "p(\\theta) = \\mathrm{VM}(\\mu, \\kappa).\n",
        "$$\n",
        "\n",
        "Upon presentation of the stimulus $\\theta$, the observer receives a noisy measurement $\\thetahat$ which is drawn from a distribution centered on the stimulus\n",
        "\n",
        "$$\n",
        "p(\\thetahat \\mid \\theta) = \\mathrm{VM}(\\theta, k).\n",
        "$$\n",
        "\n",
        "Having obtained $\\thetahat$, the observer can compute the likelihood of as a function of $\\theta \\in \\Theta$\n",
        "\n",
        "$$\n",
        "\\mathscr{L}(\\theta; \\thetahat) \\equiv p(\\thetahat \\mid \\theta).\n",
        "$$\n",
        "\n",
        "The observer obtains the posterior using Bayes rule\n",
        "\n",
        "$$\n",
        "p(\\theta \\mid \\thetahat) = \\frac{1}{Z} p(\\theta)\\mathscr{L}(\\theta; \\thetahat)\n",
        "$$\n",
        "\n",
        "with the normalization factor $Z \\equiv p(\\thetahat)$. Finally, the observer responds with a point estimate, e.g. the posterior mean\n",
        "\n",
        "$$\n",
        "R \\equiv \\mathbb{E}[\\theta \\mid \\thetahat].\n",
        "$$\n",
        "\n",
        "Over many trials, the response distribution is given by\n",
        "\n",
        "$$\n",
        "p(R \\mid \\theta).\n",
        "$$\n",
        "\n",
        "## Signal-dependent Noise\n",
        "\n",
        "Instead of thinking about measurement noise using the concentration parameter $k$, it is more intuitive to think about circular standard deviation $\\sigma$ (we can always compute back to concentration).\n",
        "\n",
        "We may assume that measurement noise is a function of the angle,\n",
        "\n",
        "$$\n",
        "\\sigma = f(\\theta).\n",
        "$$\n",
        "\n",
        "### Off-cardinal noise\n",
        "\n",
        "For example, we may assume that noise is $\\sigma_{min}$ at the cardinal diretions and $\\sigma_{max}$ at the off-cardinal directions.\n",
        "\n",
        "Sharp noise increase aray from cardinals:\n",
        "\n",
        "$$\n",
        "\\sigma = \\sigma_{min} + \\left(\\sigma_{max}-\\sigma_{min}\\right) \\thinspace \\vert\\sin(2\\theta) \\thinspace \\vert.\n",
        "$$\n",
        "\n",
        "Smooth noise increase away from cardinals, as $p$ grows noise is mostly at its minimum and peaks narrowly around off-cardinals:\n",
        "\n",
        "$$\n",
        "\\sigma = \\sigma_{min} + \\left(\\sigma_{max}-\\sigma_{min}\\right) \\thinspace \\left[\\thinspace\\sin(2\\theta)\\thinspace\\right]^{\\thinspace p},\\qquad p\\in\\{2,4,6,...\\}\n",
        "$$\n",
        "\n",
        "Smooth noise increase away from cardinals, as $p$ grows noise is mostly at its maximum and diminishes narrowly around cardinals:\n",
        "\n",
        "$$\n",
        "\\sigma = \\sigma_{max} - \\left(\\sigma_{min}-\\sigma_{max}\\right) \\thinspace \\left[\\thinspace\\cos(2\\theta)\\thinspace\\right]^{\\thinspace p},\\qquad p\\in\\{2,4,6,...\\}\n",
        "$$\n",
        "\n",
        "All functions are shown in this [Desmos graph](https://www.desmos.com/calculator/hlsndiz63n).\n",
        "\n",
        "\n",
        "## Multiple Priors\n",
        "\n",
        "Instead of assuming a single prior for the stimulus, we may assume there are multiple possible priors indexed by the discrete variable $C$\n",
        "\n",
        "$$\n",
        "p(\\theta \\mid C),\n",
        "$$\n",
        "\n",
        "with prior $p(C)$. Then, the posterior is computed using\n",
        "\n",
        "$$\n",
        "\\begin{align*}\n",
        "p(\\theta \\mid \\thetahat) &= \\frac{1}{Z} p(\\thetahat\\mid\\theta) \\sum_C p(\\theta\\mid C)p(C).\n",
        "\\end{align*}\n",
        "$$\n",
        "\n"
      ],
      "metadata": {
        "id": "CS3yOQyIpnd0"
      }
    }
  ]
}